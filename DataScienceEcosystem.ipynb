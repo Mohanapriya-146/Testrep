{
 "cells": [
  {
   "cell_type": "code",
   "execution_count": 3,
   "id": "b1b8ec67-1310-47b0-bcba-ac0fdad8b4fd",
   "metadata": {
    "tags": []
   },
   "outputs": [
    {
     "name": "stdout",
     "output_type": "stream",
     "text": [
      "Hours= 3\n"
     ]
    }
   ],
   "source": [
    "# This will convert 200 minutes to hours by diving by 60.\n",
    "minutes = 200\n",
    "h = minutes // 60\n",
    "print(\"Hours=\", h)"
   ]
  },
  {
   "cell_type": "markdown",
   "id": "0a7d2711-655d-4fde-8424-a4365aadbcef",
   "metadata": {},
   "source": [
    "In this notebook, Data Science Tools and Ecosystem are summarized."
   ]
  },
  {
   "cell_type": "markdown",
   "id": "02093051-6c92-437b-9ea7-c270800e2cf5",
   "metadata": {},
   "source": [
    "**Objectives:**\n",
    "* Popular languages for Data Science<br>\n",
    "        * Python<br>\n",
    "        * R Programming<br>\n",
    "        * SQL<br>\n",
    "* Commonly used libraries in Data Science<br>\n",
    "        * Pandas<br>\n",
    "        * NumPy<br>\n",
    "        * SciPy<br>\n",
    "* Open Source tools used in Development environment<br>\n",
    "        * Jupyter Notebook<br>\n",
    "        * R Studio<br>\n",
    "        * Gitlab<br>\n",
    "* Jupeter Notebook supports over 40 Programming languages and it executes code by Kernels.\n",
    "* JupyterLab is the latest web-based interactive development environment for notebooks, code, and data."
   ]
  },
  {
   "cell_type": "markdown",
   "id": "5c653ad9-7108-40a3-9dfc-9b454d3f34e4",
   "metadata": {},
   "source": [
    "## Author\n",
    "Mohana Priya Eagambaram"
   ]
  },
  {
   "cell_type": "code",
   "execution_count": null,
   "id": "d2efdc64-98ec-4df8-af61-0ed65306e5f4",
   "metadata": {},
   "outputs": [],
   "source": []
  }
 ],
 "metadata": {
  "kernelspec": {
   "display_name": "Python",
   "language": "python",
   "name": "conda-env-python-py"
  },
  "language_info": {
   "codemirror_mode": {
    "name": "ipython",
    "version": 3
   },
   "file_extension": ".py",
   "mimetype": "text/x-python",
   "name": "python",
   "nbconvert_exporter": "python",
   "pygments_lexer": "ipython3",
   "version": "3.7.12"
  }
 },
 "nbformat": 4,
 "nbformat_minor": 5
}
